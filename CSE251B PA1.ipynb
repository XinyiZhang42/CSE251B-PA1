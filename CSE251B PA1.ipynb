{
 "cells": [
  {
   "cell_type": "markdown",
   "metadata": {},
   "source": [
    "## CSE251B PA1"
   ]
  },
  {
   "cell_type": "code",
   "execution_count": 1,
   "metadata": {},
   "outputs": [],
   "source": [
    "#Basic setups \n",
    "import numpy as np\n",
    "from skimage import io\n",
    "%matplotlib inline\n",
    "import matplotlib.pyplot as plt"
   ]
  },
  {
   "cell_type": "markdown",
   "metadata": {},
   "source": [
    "### Part 1: Load and preprocess the data"
   ]
  },
  {
   "cell_type": "code",
   "execution_count": 7,
   "metadata": {},
   "outputs": [],
   "source": [
    "from dataloader import load_data\n",
    "from PCA import PCA"
   ]
  },
  {
   "cell_type": "code",
   "execution_count": 9,
   "metadata": {},
   "outputs": [
    {
     "name": "stdout",
     "output_type": "stream",
     "text": [
      "Car types: ['Convertible', 'Minivan', 'Pickup', 'Sedan'] \n",
      "\n",
      "Convertible: 149 # of images\n",
      "Minivan: 148 # of images\n",
      "Pickup: 150 # of images\n",
      "Sedan: 150 # of images\n"
     ]
    }
   ],
   "source": [
    "#Load and preprocess the data\n",
    "#We change the load_data function by deleting the value assigned to datatype in the definition\n",
    "aligned_data,cnt = load_data(\"./aligned/\")"
   ]
  },
  {
   "cell_type": "markdown",
   "metadata": {},
   "source": [
    "### Part 2: Cross Validation Procedure"
   ]
  },
  {
   "cell_type": "code",
   "execution_count": 38,
   "metadata": {},
   "outputs": [],
   "source": [
    "from random import shuffle\n",
    "import math\n",
    "def kFold(K,data):\n",
    "    \"\"\"This function is used to implement k-fold cross-validation\"\"\"\n",
    "    #Shuffle the dataset to get more accurate performance\n",
    "    index = np.arange(0,len(data))\n",
    "    shuffled_idx = np.random.shuffle(index)\n",
    "    shuffled_data = data[shuffled_idx]\n",
    "    \n",
    "    #Split the data into training, testing and handout set\n",
    "    size = len(data)\n",
    "    set_size = math.floor(size/K)\n",
    "    index_train = int(set_size*(K-2))\n",
    "    index_test = int(set_size*(K-1))\n",
    "\n",
    "    \n",
    "    training_set = shuffled_data[:index_train]\n",
    "    testing_set = shuffled_data[index_train:index_test]\n",
    "    val_set = shuffled_data[index_test:]\n",
    "    return training_set,testing_set,val_set"
   ]
  },
  {
   "cell_type": "code",
   "execution_count": 32,
   "metadata": {},
   "outputs": [],
   "source": [
    "def img_flatten(img):\n",
    "    \"\"\"This function is used to convert 2-D images to 1-D vectors\"\"\"\n",
    "    flatten_img = []\n",
    "    for i in range(len(img)):\n",
    "        flatten_img.append(img[i].flatten())\n",
    "    return np.array(flatten_img)"
   ]
  },
  {
   "cell_type": "code",
   "execution_count": 29,
   "metadata": {},
   "outputs": [],
   "source": [
    "def plot_top_PCs(eigenvectors,n):\n",
    "    imgs = []\n",
    "    plt.figure()\n",
    "    for i in range(n):\n",
    "        eigen = rigenvectors[i]\n",
    "        image = np.reshape(eigen,(200,300))\n",
    "        image = Image.fromarray(image)\n",
    "        imgs.append(img)\n",
    "        plt.subplot(1,n,i)\n",
    "        plt.imshow(imgs[i])"
   ]
  },
  {
   "cell_type": "code",
   "execution_count": 41,
   "metadata": {},
   "outputs": [],
   "source": [
    "#Train Process\n",
    "#Load data \n",
    "minivan = aligned_data.get('Minivan')\n",
    "convertible = aligned_data.get('Convertible')\n",
    "\n",
    "minivan_flatten = img_flatten(minivan)\n",
    "convertible_flatten = img_flatten(convertible)\n",
    "\n",
    "trainM,testM,valM = kFold(10,minivan_flatten)\n",
    "trainC,testC,valC = kFold(10,convertible_flatten)\n",
    "\n",
    "#Perform PCA to find top PCs\n",
    "num_Pc = 3\n",
    "#projected, mean_image, top_sqrt_eigen_values, top_eigen_vectors = PCA(traindata,num_PC)"
   ]
  },
  {
   "cell_type": "code",
   "execution_count": null,
   "metadata": {},
   "outputs": [],
   "source": []
  }
 ],
 "metadata": {
  "kernelspec": {
   "display_name": "Python 3",
   "language": "python",
   "name": "python3"
  },
  "language_info": {
   "codemirror_mode": {
    "name": "ipython",
    "version": 3
   },
   "file_extension": ".py",
   "mimetype": "text/x-python",
   "name": "python",
   "nbconvert_exporter": "python",
   "pygments_lexer": "ipython3",
   "version": "3.8.3"
  }
 },
 "nbformat": 4,
 "nbformat_minor": 4
}
