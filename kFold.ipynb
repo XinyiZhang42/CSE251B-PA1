{
 "cells": [
  {
   "cell_type": "code",
   "execution_count": 1,
   "metadata": {},
   "outputs": [],
   "source": [
    "from random import shuffle\n",
    "import math\n",
    "def kFold(K,data):\n",
    "    \"\"\"This function is used to implement k-fold cross-validation\"\"\"\n",
    "    #Shuffle the dataset to get more accurate performance\n",
    "    index = np.arange(data.shape[0])\n",
    "    shuffle(index)\n",
    "    \n",
    "\n",
    "    #Split the data into training, testing and handout set\n",
    "    size = len(data)\n",
    "    set_size = math.floor(size/K)\n",
    "    index_train = int(set_size*(K-2))\n",
    "    index_test = int(set_size*(K-1))\n",
    "\n",
    "    \n",
    "    training_set = shuffled_data[:index_train,:]\n",
    "    testing_set = shuffled_data[index_train:index_test,:]\n",
    "    val_set = shuffled_data[index_test:,:]\n",
    "\n",
    "    return training_set,testing_set,val_set\n",
    "\n",
    "def dataSplit(K,data):\n",
    "    \"\"\"This function is used to implement k-fold cross-validation\"\"\"\n",
    "    #Shuffle the dataset to get more accurate performance\n",
    "    index = np.arange(0,len(data))\n",
    "    shuffled_idx = np.random.shuffle(index)\n",
    "    shuffled_data = data[shuffled_idx]\n",
    "    \n",
    "    #Split the data into training, testing and handout set\n",
    "    size = len(data)\n",
    "    set_size = math.floor(size/K)\n",
    "    folds = []\n",
    "    for i in range(K-1):\n",
    "        temp = data[i*set_size:(i+1)*set_size,:]\n",
    "        folds.append(temp)\n",
    "    folds.append(data[K*set_size:,:])\n",
    "    return folds"
   ]
  },
  {
   "cell_type": "code",
   "execution_count": null,
   "metadata": {},
   "outputs": [],
   "source": []
  }
 ],
 "metadata": {
  "kernelspec": {
   "display_name": "Python 3",
   "language": "python",
   "name": "python3"
  },
  "language_info": {
   "codemirror_mode": {
    "name": "ipython",
    "version": 3
   },
   "file_extension": ".py",
   "mimetype": "text/x-python",
   "name": "python",
   "nbconvert_exporter": "python",
   "pygments_lexer": "ipython3",
   "version": "3.8.3"
  }
 },
 "nbformat": 4,
 "nbformat_minor": 4
}
